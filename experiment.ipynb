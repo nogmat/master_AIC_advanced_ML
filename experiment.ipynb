{
 "cells": [
  {
   "cell_type": "code",
   "execution_count": null,
   "metadata": {
    "autoscroll": false,
    "collapsed": false,
    "ein.hycell": false,
    "ein.tags": "worksheet-0",
    "slideshow": {
     "slide_type": "-"
    }
   },
   "outputs": [],
   "source": [
    "from lfp4uda.feature_extractor import FeatureExtractor\n",
    "from netvlad import NetVLAD\n",
    "from local_feature_alignment import LocalFeatureAlignment\n",
    "from holistic_discriminator import HolisticDiscriminator\n",
    "from local_discriminator import LocalDiscriminator\n",
    "from single_layer_classifier import SingleLayerClassifier\n",
    "from office_31_preprocessing import Office31\n",
    "import numpy as np\n",
    "from sklearn.cluster import KMeans\n",
    "import tensorflow as tf\n",
    "from tensorflow.python.data.ops.dataset_ops import MapDataset\n",
    "import os\n",
    "\n",
    "tf.autograph.set_verbosity(0)"
   ]
  },
  {
   "cell_type": "code",
   "execution_count": null,
   "metadata": {
    "autoscroll": false,
    "collapsed": false,
    "ein.hycell": false,
    "ein.tags": "worksheet-0",
    "slideshow": {
     "slide_type": "-"
    }
   },
   "outputs": [],
   "source": [
    "IMG_WIDTH = 256\n",
    "IMG_HEIGHT = 256\n",
    "BATCH_SIZE = 32\n"
   ]
  },
  {
   "cell_type": "code",
   "execution_count": null,
   "metadata": {
    "autoscroll": false,
    "collapsed": false,
    "ein.hycell": false,
    "ein.tags": "worksheet-0",
    "slideshow": {
     "slide_type": "-"
    }
   },
   "outputs": [],
   "source": [
    "source, target = Office31().import_folder()[0:2] \n",
    "# Initialize cluster centroids with k means\n",
    "x_source_batch, y_source_batch = next(iter(source))\n",
    "x_target_batch, y_target_batch = next(iter(target))\n",
    "\n",
    "feature_extractor_0 = FeatureExtractor()\n",
    "\n",
    "input_0 = tf.keras.layers.Input(shape=(IMG_HEIGHT, IMG_WIDTH, 3))\n",
    "model_0 = tf.keras.models.Model(\n",
    "    inputs=[input_0], outputs=feature_extractor_0(input_0))\n",
    "features = model_0(x_source_batch)\n",
    "\n",
    "features_np = tf.keras.backend.reshape(\n",
    "    features,\n",
    "    shape=(np.prod(features.shape[:3]), features.shape[3])\n",
    ").numpy()\n",
    "\n",
    "kmeans = KMeans(n_clusters=32)\n",
    "kmeans.fit(features_np)\n",
    "centroids = kmeans.cluster_centers_\n",
    "\n",
    "# Step 1 : Classifier training\n",
    "\n",
    "tf.keras.backend.clear_session()\n",
    "\n",
    "## Defining layers\n",
    "feature_extractor_1 = FeatureExtractor(False)\n",
    "netvlad_1 = NetVLAD(5000, 0.005, centroids, False)\n",
    "single_layer_classifier_1 = SingleLayerClassifier(31)\n",
    "softmax_1 = tf.keras.layers.Softmax()\n",
    "\n",
    "## Running step 1\n",
    "image_input_1 = tf.keras.layers.Input(shape=(256, 256, 3))\n",
    "layer1_1 = feature_extractor_1(image_input_1)\n",
    "layer1_2, _, _ = netvlad_1(layer1_1)\n",
    "layer1_3 = single_layer_classifier_1(layer1_2)\n",
    "layer1_4 = softmax_1(layer1_3)\n",
    "model_step_1 = tf.keras.models.Model(\n",
    "    inputs=[image_input_1], outputs=layer1_4)\n",
    "\n",
    "adam = tf.keras.optimizers.Adam(learning_rate=0.01)\n",
    "model_step_1.compile(loss='categorical_crossentropy', optimizer=adam)\n",
    "# model_step_1(x_source_batch)\n",
    "model_step_1.fit(x_source_batch, y_source_batch, epochs=1)\n",
    "\n",
    "print(\"Step 1 succeed\")\n"
   ]
  },
  {
   "cell_type": "code",
   "execution_count": null,
   "metadata": {
    "autoscroll": false,
    "collapsed": false,
    "ein.hycell": false,
    "ein.tags": "worksheet-0",
    "slideshow": {
     "slide_type": "-"
    }
   },
   "outputs": [],
   "source": [
    "# Step 2 : Source finetuning\n",
    "\n",
    "## Defining layers\n",
    "feature_extractor_2 = FeatureExtractor(True)\n",
    "netvlad_2 = NetVLAD(5000, 0.005, netvlad_1.centers.numpy(), True)\n",
    "single_layer_classifier_2 = single_layer_classifier_1\n",
    "softmax_2 = softmax_1\n",
    "\n",
    "## Running step 2\n",
    "image_input_2 = tf.keras.layers.Input(shape=(IMG_HEIGHT, IMG_WIDTH, 3))\n",
    "features_2 = feature_extractor_2(image_input_2)\n",
    "vlad_2, similarities_2, _ = netvlad_2(features_2)\n",
    "class_2 = single_layer_classifier_2(\n",
    "    softmax_2(vlad_2))\n",
    "\n",
    "model_step_2 = tf.keras.models.Model(\n",
    "    inputs=[image_input_2],\n",
    "    outputs=[class_2, similarities_2]\n",
    ")\n",
    "def loss_2(y_true, y_pred):\n",
    "    print(tf.shape(y_pred))\n",
    "    return 1.0\n",
    "    \n",
    "adam_2 = tf.keras.optimizers.Adam(learning_rate=0.0001)\n",
    "model_step_2.compile(loss=loss_2, optimizer=adam_2)\n",
    "# model_step_2.fit(x_source_batch, y_source_batch, epochs=1)\n",
    "# Step 3 : Domain adaptation\n"
   ]
  },
  {
   "cell_type": "code",
   "execution_count": 11,
   "metadata": {
    "autoscroll": false,
    "collapsed": false,
    "ein.hycell": false,
    "ein.tags": "worksheet-0",
    "slideshow": {
     "slide_type": "-"
    }
   },
   "outputs": [
    {
     "ename": "NameError",
     "evalue": "name 'feature_extractor' is not defined",
     "output_type": "error",
     "traceback": [
      "\u001b[0;31m---------------------------------------------------------------------------\u001b[0m",
      "\u001b[0;31mNameError\u001b[0m                                 Traceback (most recent call last)",
      "\u001b[0;32m<ipython-input-11-3d431a58186d>\u001b[0m in \u001b[0;36m<module>\u001b[0;34m\u001b[0m\n\u001b[0;32m----> 1\u001b[0;31m \u001b[0mprint\u001b[0m\u001b[0;34m(\u001b[0m\u001b[0mfeature_extractor\u001b[0m\u001b[0;34m)\u001b[0m\u001b[0;34m\u001b[0m\u001b[0;34m\u001b[0m\u001b[0m\n\u001b[0m",
      "\u001b[0;31mNameError\u001b[0m: name 'feature_extractor' is not defined"
     ]
    }
   ],
   "source": [
    "print(IMG_WEIGHT)"
   ]
  },
  {
   "cell_type": "code",
   "execution_count": null,
   "metadata": {
    "autoscroll": false,
    "collapsed": false,
    "ein.hycell": false,
    "ein.tags": "worksheet-0",
    "slideshow": {
     "slide_type": "-"
    }
   },
   "outputs": [],
   "source": [
    "feature_extractor.vgg16.summary()"
   ]
  },
  {
   "cell_type": "code",
   "execution_count": null,
   "metadata": {
    "autoscroll": false,
    "collapsed": false,
    "ein.hycell": false,
    "ein.tags": "worksheet-0",
    "slideshow": {
     "slide_type": "-"
    }
   },
   "outputs": [],
   "source": [
    "feature_extractor_test = FeatureExtractor(True)\n",
    "\n",
    "feature_extractor_test.vgg16.summary()\n",
    "\n",
    "# ones = tf.constant([[1.0, 2.0],[3.0, 4.0]])\n",
    "# print(-tf.keras.backend.mean(ones))"
   ]
  },
  {
   "cell_type": "code",
   "execution_count": null,
   "metadata": {
    "autoscroll": false,
    "collapsed": false,
    "ein.hycell": false,
    "ein.tags": "worksheet-0",
    "slideshow": {
     "slide_type": "-"
    }
   },
   "outputs": [],
   "source": [
    "labels = tf.constant([True, False, False])\n",
    "def f(x):\n",
    "    if x:\n",
    "        return 1.0\n",
    "    return 0.0\n",
    "\n",
    "print(tf.keras.backend.map_fn(f, labels))"
   ]
  },
  {
   "cell_type": "code",
   "execution_count": null,
   "metadata": {
    "autoscroll": false,
    "collapsed": false,
    "ein.hycell": false,
    "ein.tags": "worksheet-0",
    "slideshow": {
     "slide_type": "-"
    }
   },
   "outputs": [],
   "source": []
  }
 ],
 "metadata": {
  "kernelspec": {
   "argv": [
    "/usr/bin/python3",
    "-m",
    "ipykernel_launcher",
    "-f",
    "{connection_file}"
   ],
   "display_name": "Python 3",
   "env": null,
   "interrupt_mode": "signal",
   "language": "python",
   "metadata": null,
   "name": "python3"
  },
  "language_info": {
   "codemirror_mode": {
    "name": "ipython",
    "version": 3
   },
   "file_extension": ".py",
   "mimetype": "text/x-python",
   "name": "python",
   "nbconvert_exporter": "python",
   "pygments_lexer": "ipython3",
   "version": "3.8.1"
  },
  "name": "experiment.ipynb"
 },
 "nbformat": 4,
 "nbformat_minor": 2
}
